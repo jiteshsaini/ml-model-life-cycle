{
 "cells": [
  {
   "cell_type": "markdown",
   "metadata": {},
   "source": [
    "### This is a helper file to break down and understand the data processing at server end"
   ]
  },
  {
   "cell_type": "markdown",
   "metadata": {},
   "source": [
    "### A dummy input data [3, 13702, 0.09, 48, 0.2, 5] is taken for demonstration"
   ]
  },
  {
   "cell_type": "code",
   "execution_count": 11,
   "metadata": {},
   "outputs": [],
   "source": [
    "import numpy as np \n",
    "import pandas as pd \n",
    "import json\n",
    "from flask import request, jsonify\n",
    "from flask import Flask, Blueprint\n",
    "from flask import render_template\n",
    "\n",
    "import os,pickle\n",
    "\n",
    "import warnings\n",
    "warnings.filterwarnings('ignore')"
   ]
  },
  {
   "cell_type": "code",
   "execution_count": 12,
   "metadata": {},
   "outputs": [],
   "source": [
    "model = pickle.load(open('logreg.pickle', 'rb' ))\n",
    "\n",
    "# Load the scaler from the pickle file\n",
    "with open('scaler.pickle', 'rb') as f2:\n",
    "    scaler_pkl = pickle.load(f2)\n",
    "    \n",
    "# Load encoder from the pickle file\n",
    "with open('encoder.pickle', 'rb') as f3:\n",
    "    encoder_pkl = pickle.load(f3)\n",
    "    "
   ]
  },
  {
   "cell_type": "code",
   "execution_count": 13,
   "metadata": {},
   "outputs": [],
   "source": [
    "def convert_to_df(arr):\n",
    "    column_names = ['Administrative', 'ProductRelated_Duration', 'BounceRates', 'PageValues', 'SpecialDay', 'Month']\n",
    "    # Create a DataFrame\n",
    "    df = pd.DataFrame([arr], columns=column_names)\n",
    "    df = df.astype(float)\n",
    "\n",
    "    return df\n",
    "\n",
    "def one_hot_encoding(df):\n",
    "    encoded_data = encoder_pkl.transform(df[['SpecialDay', 'Month']])\n",
    "    # Convert the encoded data to a DataFrame with meaningful column names\n",
    "    encoded_df = pd.DataFrame(\n",
    "        encoded_data,\n",
    "        columns=[f\"{col}_{val}\" for col, vals in zip(['SpecialDay', 'Month'], encoder_pkl.categories_) for val in vals]\n",
    "    )\n",
    "\n",
    "    # Concatenate the original DataFrame with the encoded DataFrame\n",
    "    encoded_data2 = pd.concat([df, encoded_df], axis=1)\n",
    "\n",
    "    # Drop the original columns that were encoded\n",
    "    encoded_data2 = encoded_data2.drop(['SpecialDay', 'Month'], axis=1)\n",
    "    return encoded_data2\n",
    "\n",
    "def scale_input_data(df):\n",
    "    input_scaled = scaler_pkl.transform(df)\n",
    "    return input_scaled"
   ]
  },
  {
   "cell_type": "code",
   "execution_count": 14,
   "metadata": {},
   "outputs": [],
   "source": [
    "input_arr = [3, 13702, 0.09, 48, 0.2, 5]"
   ]
  },
  {
   "cell_type": "code",
   "execution_count": 15,
   "metadata": {},
   "outputs": [
    {
     "data": {
      "text/html": [
       "<div>\n",
       "<style scoped>\n",
       "    .dataframe tbody tr th:only-of-type {\n",
       "        vertical-align: middle;\n",
       "    }\n",
       "\n",
       "    .dataframe tbody tr th {\n",
       "        vertical-align: top;\n",
       "    }\n",
       "\n",
       "    .dataframe thead th {\n",
       "        text-align: right;\n",
       "    }\n",
       "</style>\n",
       "<table border=\"1\" class=\"dataframe\">\n",
       "  <thead>\n",
       "    <tr style=\"text-align: right;\">\n",
       "      <th></th>\n",
       "      <th>Administrative</th>\n",
       "      <th>ProductRelated_Duration</th>\n",
       "      <th>BounceRates</th>\n",
       "      <th>PageValues</th>\n",
       "      <th>SpecialDay</th>\n",
       "      <th>Month</th>\n",
       "    </tr>\n",
       "  </thead>\n",
       "  <tbody>\n",
       "    <tr>\n",
       "      <th>0</th>\n",
       "      <td>3.0</td>\n",
       "      <td>13702.0</td>\n",
       "      <td>0.09</td>\n",
       "      <td>48.0</td>\n",
       "      <td>0.2</td>\n",
       "      <td>5.0</td>\n",
       "    </tr>\n",
       "  </tbody>\n",
       "</table>\n",
       "</div>"
      ],
      "text/plain": [
       "   Administrative  ProductRelated_Duration  BounceRates  PageValues  \\\n",
       "0             3.0                  13702.0         0.09        48.0   \n",
       "\n",
       "   SpecialDay  Month  \n",
       "0         0.2    5.0  "
      ]
     },
     "execution_count": 15,
     "metadata": {},
     "output_type": "execute_result"
    }
   ],
   "source": [
    "input_df = convert_to_df(input_arr)\n",
    "input_df"
   ]
  },
  {
   "cell_type": "code",
   "execution_count": 16,
   "metadata": {},
   "outputs": [
    {
     "data": {
      "text/html": [
       "<div>\n",
       "<style scoped>\n",
       "    .dataframe tbody tr th:only-of-type {\n",
       "        vertical-align: middle;\n",
       "    }\n",
       "\n",
       "    .dataframe tbody tr th {\n",
       "        vertical-align: top;\n",
       "    }\n",
       "\n",
       "    .dataframe thead th {\n",
       "        text-align: right;\n",
       "    }\n",
       "</style>\n",
       "<table border=\"1\" class=\"dataframe\">\n",
       "  <thead>\n",
       "    <tr style=\"text-align: right;\">\n",
       "      <th></th>\n",
       "      <th>Administrative</th>\n",
       "      <th>ProductRelated_Duration</th>\n",
       "      <th>BounceRates</th>\n",
       "      <th>PageValues</th>\n",
       "      <th>SpecialDay_0.0</th>\n",
       "      <th>SpecialDay_0.2</th>\n",
       "      <th>SpecialDay_0.4</th>\n",
       "      <th>SpecialDay_0.6</th>\n",
       "      <th>SpecialDay_0.8</th>\n",
       "      <th>SpecialDay_1.0</th>\n",
       "      <th>Month_2</th>\n",
       "      <th>Month_3</th>\n",
       "      <th>Month_5</th>\n",
       "      <th>Month_6</th>\n",
       "      <th>Month_7</th>\n",
       "      <th>Month_8</th>\n",
       "      <th>Month_9</th>\n",
       "      <th>Month_10</th>\n",
       "      <th>Month_11</th>\n",
       "      <th>Month_12</th>\n",
       "    </tr>\n",
       "  </thead>\n",
       "  <tbody>\n",
       "    <tr>\n",
       "      <th>0</th>\n",
       "      <td>3.0</td>\n",
       "      <td>13702.0</td>\n",
       "      <td>0.09</td>\n",
       "      <td>48.0</td>\n",
       "      <td>0.0</td>\n",
       "      <td>1.0</td>\n",
       "      <td>0.0</td>\n",
       "      <td>0.0</td>\n",
       "      <td>0.0</td>\n",
       "      <td>0.0</td>\n",
       "      <td>0.0</td>\n",
       "      <td>0.0</td>\n",
       "      <td>1.0</td>\n",
       "      <td>0.0</td>\n",
       "      <td>0.0</td>\n",
       "      <td>0.0</td>\n",
       "      <td>0.0</td>\n",
       "      <td>0.0</td>\n",
       "      <td>0.0</td>\n",
       "      <td>0.0</td>\n",
       "    </tr>\n",
       "  </tbody>\n",
       "</table>\n",
       "</div>"
      ],
      "text/plain": [
       "   Administrative  ProductRelated_Duration  BounceRates  PageValues  \\\n",
       "0             3.0                  13702.0         0.09        48.0   \n",
       "\n",
       "   SpecialDay_0.0  SpecialDay_0.2  SpecialDay_0.4  SpecialDay_0.6  \\\n",
       "0             0.0             1.0             0.0             0.0   \n",
       "\n",
       "   SpecialDay_0.8  SpecialDay_1.0  Month_2  Month_3  Month_5  Month_6  \\\n",
       "0             0.0             0.0      0.0      0.0      1.0      0.0   \n",
       "\n",
       "   Month_7  Month_8  Month_9  Month_10  Month_11  Month_12  \n",
       "0      0.0      0.0      0.0       0.0       0.0       0.0  "
      ]
     },
     "execution_count": 16,
     "metadata": {},
     "output_type": "execute_result"
    }
   ],
   "source": [
    "one_hot_encoded_df = one_hot_encoding(input_df)\n",
    "one_hot_encoded_df"
   ]
  },
  {
   "cell_type": "code",
   "execution_count": 17,
   "metadata": {},
   "outputs": [
    {
     "data": {
      "text/plain": [
       "array([[ 0.2119758 ,  6.84009297,  1.44946314,  2.23314808, -3.01379228,\n",
       "         8.24912117, -0.14217161, -0.16435008, -0.1669344 , -0.10771897,\n",
       "        -0.11823816, -0.43154223,  1.65517413, -0.15675666, -0.19333858,\n",
       "        -0.19204507, -0.19366081, -0.21460434, -0.56990258, -0.40495914]])"
      ]
     },
     "execution_count": 17,
     "metadata": {},
     "output_type": "execute_result"
    }
   ],
   "source": [
    "input_scaled=scale_input_data(one_hot_encoded_df)\n",
    "input_scaled"
   ]
  },
  {
   "cell_type": "code",
   "execution_count": 18,
   "metadata": {},
   "outputs": [
    {
     "name": "stdout",
     "output_type": "stream",
     "text": [
      "1\n"
     ]
    }
   ],
   "source": [
    "y_pred = model.predict(input_scaled)\n",
    "print(y_pred[0])"
   ]
  },
  {
   "cell_type": "code",
   "execution_count": 19,
   "metadata": {},
   "outputs": [
    {
     "name": "stdout",
     "output_type": "stream",
     "text": [
      "[0.316 0.684]\n"
     ]
    }
   ],
   "source": [
    "y_prob = model.predict_proba(input_scaled)\n",
    "y_prob = np.round(y_prob, 3)\n",
    "print(y_prob[0])\n"
   ]
  },
  {
   "cell_type": "code",
   "execution_count": 20,
   "metadata": {},
   "outputs": [
    {
     "data": {
      "text/plain": [
       "'{\"predicted_class\": [1], \"probabilities\": [[0.316, 0.684]]}'"
      ]
     },
     "execution_count": 20,
     "metadata": {},
     "output_type": "execute_result"
    }
   ],
   "source": [
    "result_dict = {\n",
    "        \"predicted_class\": y_pred.tolist(),\n",
    "        \"probabilities\": y_prob.tolist()\n",
    "    }\n",
    "json_data = json.dumps(result_dict)\n",
    "json_data"
   ]
  },
  {
   "cell_type": "code",
   "execution_count": null,
   "metadata": {},
   "outputs": [],
   "source": []
  }
 ],
 "metadata": {
  "colab": {
   "collapsed_sections": [],
   "name": "practice_exercise_solutions_week2_cv_aiml_online.ipynb",
   "provenance": []
  },
  "kernelspec": {
   "display_name": "Python 3 (ipykernel)",
   "language": "python",
   "name": "python3"
  },
  "language_info": {
   "codemirror_mode": {
    "name": "ipython",
    "version": 3
   },
   "file_extension": ".py",
   "mimetype": "text/x-python",
   "name": "python",
   "nbconvert_exporter": "python",
   "pygments_lexer": "ipython3",
   "version": "3.10.12"
  },
  "vscode": {
   "interpreter": {
    "hash": "7ff011b2994a81687ed3f4982f21bb61ff5447a6a94217a4bd0912dbb40f24ee"
   }
  }
 },
 "nbformat": 4,
 "nbformat_minor": 1
}
